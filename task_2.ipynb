{
 "cells": [
  {
   "cell_type": "code",
   "execution_count": 1,
   "metadata": {},
   "outputs": [],
   "source": [
    "import tensorflow as tf\n",
    "from time import time"
   ]
  },
  {
   "cell_type": "markdown",
   "metadata": {},
   "source": [
    "### Build a methods that implement a function:\n",
    "`[⍺1,⍺2 + ⍺1·𝑝,⍺3 + (⍺2 + ⍺1·𝑝)·𝑝,⍺4 + (⍺3 + (⍺2 + ⍺1·𝑝)·𝑝)]`"
   ]
  },
  {
   "cell_type": "markdown",
   "metadata": {},
   "source": [
    "#### Base method\n",
    "Simple TensorArray.write each item from the function."
   ]
  },
  {
   "cell_type": "code",
   "execution_count": 2,
   "metadata": {},
   "outputs": [],
   "source": [
    "tf.function\n",
    "def compute_tensor_base(T, p):\n",
    "\n",
    "    result = tf.TensorArray(dtype=tf.float32, size=4)\n",
    "    result = result.write(0, T[0])\n",
    "    result = result.write(1, T[1] + T[0] * p)\n",
    "    result = result.write(2, T[2] + (T[1] + T[0] * p) * p)\n",
    "    result = result.write(3, T[3] + (T[2] + (T[1] + T[0] * p) * p))\n",
    "    \n",
    "    return result.stack()"
   ]
  },
  {
   "cell_type": "markdown",
   "metadata": {},
   "source": [
    "#### Intermidate_0\n",
    "There is common algebraic expression within a function. To optimize we are going to let it calculate only once and apply results into the rest of expressions."
   ]
  },
  {
   "cell_type": "code",
   "execution_count": 3,
   "metadata": {},
   "outputs": [],
   "source": [
    "tf.function\n",
    "def compute_tensor_intermidate_0(T, p):\n",
    "\n",
    "    result = tf.TensorArray(dtype=tf.float32, size=4)\n",
    "    result = result.write(0, T[0])\n",
    "    intermidate = T[1] + T[0] * p\n",
    "    result = result.write(1, intermidate)\n",
    "    result = result.write(2, T[2] + (intermidate) * p)\n",
    "    result = result.write(3, T[3] + (T[2] + (intermidate) * p))\n",
    "\n",
    "    return result.stack()"
   ]
  },
  {
   "cell_type": "markdown",
   "metadata": {},
   "source": [
    "#### Intermidate_1\n",
    "There is two common algebraic expressions within a function. To optimize we are going to let it calculate only once and apply results into the rest of expressions."
   ]
  },
  {
   "cell_type": "code",
   "execution_count": 4,
   "metadata": {},
   "outputs": [],
   "source": [
    "tf.function\n",
    "def compute_tensor_intermidate_1(T, p):\n",
    "\n",
    "    result = tf.TensorArray(dtype=tf.float32, size=4)\n",
    "    result = result.write(0, T[0])\n",
    "    intermidate = T[1] + T[0] * p\n",
    "    result = result.write(1, intermidate)\n",
    "    intermidate_1 = T[2] + (intermidate) * p\n",
    "    result = result.write(2, intermidate_1)\n",
    "    result = result.write(3, T[3] + (intermidate_1))\n",
    "\n",
    "    return result.stack()"
   ]
  },
  {
   "cell_type": "markdown",
   "metadata": {},
   "source": [
    "#### Optimized\n",
    "The same as Intermidate_1 but wrote more programmar way."
   ]
  },
  {
   "cell_type": "code",
   "execution_count": 5,
   "metadata": {},
   "outputs": [],
   "source": [
    "tf.function\n",
    "def compute_tensor_optimized(T, p):\n",
    "    \n",
    "    result_1 = T[1] + T[0] * p\n",
    "    result_2 = T[2] + result_1 * p\n",
    "    result_3 = T[3] + result_2\n",
    "\n",
    "    return tf.stack([T[0], result_1, result_2, result_3])"
   ]
  },
  {
   "cell_type": "markdown",
   "metadata": {},
   "source": [
    "#### Optimized v2\n",
    "The same as optimized but used TensorArray.write that makes computation more structured."
   ]
  },
  {
   "cell_type": "code",
   "execution_count": 6,
   "metadata": {},
   "outputs": [],
   "source": [
    "@tf.function\n",
    "def compute_tensor_optimized_v2(T, p):\n",
    "    result = tf.TensorArray(dtype=tf.float32, size=4)\n",
    "    \n",
    "    result = result.write(0, T[0])\n",
    "    result_1 = T[1] + T[0] * p\n",
    "    result = result.write(1, result_1)\n",
    "    result_2 = T[2] + result_1 * p\n",
    "    result = result.write(2, result_2)\n",
    "    result_3 = T[3] + result_2\n",
    "    result = result.write(3, result_3)\n",
    "    \n",
    "    return result.stack()"
   ]
  },
  {
   "cell_type": "markdown",
   "metadata": {},
   "source": [
    "Create tensor T = [⍺1,⍺2,⍺3,⍺4] and tensor p = [scalar] ~ (0,1)"
   ]
  },
  {
   "cell_type": "code",
   "execution_count": 7,
   "metadata": {},
   "outputs": [
    {
     "data": {
      "text/plain": [
       "(<tf.Tensor: shape=(4,), dtype=float32, numpy=array([1., 2., 3., 4.], dtype=float32)>,\n",
       " <tf.Tensor: shape=(), dtype=float32, numpy=0.5>)"
      ]
     },
     "execution_count": 7,
     "metadata": {},
     "output_type": "execute_result"
    }
   ],
   "source": [
    "T = tf.convert_to_tensor([1.0, 2.0, 3.0, 4.0], dtype=tf.float32)\n",
    "p = tf.convert_to_tensor(0.5, dtype=tf.float32)\n",
    "\n",
    "T, p"
   ]
  },
  {
   "cell_type": "markdown",
   "metadata": {},
   "source": [
    "Compare time execution of four different computing methods for function:\n",
    "* [⍺1,⍺2 + ⍺1·𝑝,⍺3 + (⍺2 + ⍺1·𝑝)·𝑝,⍺4 + (⍺3 + (⍺2 + ⍺1·𝑝)·𝑝)] "
   ]
  },
  {
   "cell_type": "code",
   "execution_count": 8,
   "metadata": {},
   "outputs": [
    {
     "name": "stdout",
     "output_type": "stream",
     "text": [
      "Computing time base: 0.0019917376041412352\n",
      "Computing time intermidate_0: 0.0012110278606414795\n",
      "Computing time intermidate_1: 0.0009918577671051026\n",
      "Computing time optimized: 0.0009197704792022705\n",
      "Computing time optimized_v2: 0.00040234923362731935\n"
     ]
    }
   ],
   "source": [
    "list_of_times_base = []\n",
    "list_of_times_intermidate_0 = []\n",
    "list_of_times_intermidate_1 = []\n",
    "list_of_times_optimized = []\n",
    "list_of_times_optimized_v2 = []\n",
    "\n",
    "for i in range(1000):\n",
    "\n",
    "    start = time()\n",
    "    output = compute_tensor_base(T, p)\n",
    "    end = time()\n",
    "    list_of_times_base.append(end - start)\n",
    "    \n",
    "    start = time()\n",
    "    output = compute_tensor_intermidate_0(T, p)\n",
    "    end = time()\n",
    "    list_of_times_intermidate_0.append(end - start)\n",
    "\n",
    "    start = time()\n",
    "    output = compute_tensor_intermidate_1(T, p)\n",
    "    end = time()\n",
    "    list_of_times_intermidate_1.append(end - start)\n",
    "\n",
    "    start = time()\n",
    "    output = compute_tensor_optimized(T, p)\n",
    "    end = time()\n",
    "    list_of_times_optimized.append(end - start)\n",
    "\n",
    "    start = time()\n",
    "    output = compute_tensor_optimized_v2(T, p)\n",
    "    end = time()\n",
    "    list_of_times_optimized_v2.append(end - start)\n",
    "    \n",
    "print(f\"Computing time base: {sum(list_of_times_base)/1000}\")\n",
    "print(f\"Computing time intermidate_0: {sum(list_of_times_intermidate_0)/1000}\")\n",
    "print(f\"Computing time intermidate_1: {sum(list_of_times_intermidate_1)/1000}\")\n",
    "print(f\"Computing time optimized: {sum(list_of_times_optimized)/1000}\")\n",
    "print(f\"Computing time optimized_v2: {sum(list_of_times_optimized_v2)/1000}\")"
   ]
  },
  {
   "cell_type": "markdown",
   "metadata": {},
   "source": [
    "Calculating the derivatives on both the tensor T and the scalar p. We are going to record tensors [T, p] all operations using tf.GradientTape.\n",
    "\n",
    "After calling method compute_tensor_optimized we use computational graph to compute derivatives with tape.gradient."
   ]
  },
  {
   "cell_type": "code",
   "execution_count": 9,
   "metadata": {},
   "outputs": [
    {
     "name": "stdout",
     "output_type": "stream",
     "text": [
      "Gradient w.r.t. T: tf.Tensor([2. 2. 2. 1.], shape=(4,), dtype=float32) tf.Tensor([1.   2.5  4.25 8.25], shape=(4,), dtype=float32)\n",
      "Gradient w.r.t. p: tf.Tensor(7.0, shape=(), dtype=float32) tf.Tensor([1.   2.5  4.25 8.25], shape=(4,), dtype=float32)\n"
     ]
    }
   ],
   "source": [
    "with tf.GradientTape(persistent=True) as tape:\n",
    "    tape.watch([T, p])\n",
    "    result = compute_tensor_optimized_v2(T, p)\n",
    "\n",
    "# Gradients with respect to T\n",
    "grad_T = tape.gradient(result, T)\n",
    "print(\"Gradient w.r.t. T:\", grad_T, result)\n",
    "\n",
    "# Gradients with respect to p\n",
    "grad_p = tape.gradient(result, p)\n",
    "print(\"Gradient w.r.t. p:\", grad_p, result)"
   ]
  }
 ],
 "metadata": {
  "kernelspec": {
   "display_name": "Python 3",
   "language": "python",
   "name": "python3"
  },
  "language_info": {
   "codemirror_mode": {
    "name": "ipython",
    "version": 3
   },
   "file_extension": ".py",
   "mimetype": "text/x-python",
   "name": "python",
   "nbconvert_exporter": "python",
   "pygments_lexer": "ipython3",
   "version": "3.12.8"
  }
 },
 "nbformat": 4,
 "nbformat_minor": 2
}
